{
 "cells": [
  {
   "cell_type": "code",
   "execution_count": 12,
   "id": "00853247",
   "metadata": {},
   "outputs": [
    {
     "name": "stdout",
     "output_type": "stream",
     "text": [
      "  Country_Region  Confirmed  Deaths   Recovered\n",
      "0             US   35065578  612958         0.0\n",
      "1          India   31655824  424351  30820521.0\n",
      "2         Brazil   19922146  556676  17771228.0\n",
      "3         France    6190621  112061    413170.0\n",
      "4         Russia    6185249  155952   5539787.0\n"
     ]
    },
    {
     "data": {
      "application/vnd.plotly.v1+json": {
       "config": {
        "plotlyServerURL": "https://plot.ly"
       },
       "data": [
        {
         "customdata": [
          [
           35065578,
           612958,
           0,
           "US"
          ],
          [
           31655824,
           424351,
           30820521,
           "India"
          ],
          [
           19922146,
           556676,
           17771228,
           "Brazil"
          ],
          [
           6190621,
           112061,
           413170,
           "France"
          ],
          [
           6185249,
           155952,
           5539787,
           "Russia"
          ],
          [
           5883421,
           129949,
           20928,
           "United Kingdom"
          ],
          [
           5727045,
           51332,
           5454360,
           "Turkey"
          ],
          [
           4929764,
           105721,
           4569552,
           "Argentina"
          ],
          [
           4785320,
           120723,
           4578519,
           "Colombia"
          ],
          [
           4447044,
           81486,
           150376,
           "Spain"
          ],
          [
           4350028,
           128063,
           4134680,
           "Italy"
          ],
          [
           3871008,
           90630,
           3367272,
           "Iran"
          ],
          [
           3776724,
           91666,
           3653150,
           "Germany"
          ],
          [
           3409658,
           94119,
           2770092,
           "Indonesia"
          ],
          [
           2882939,
           75261,
           2653700,
           "Poland"
          ],
          [
           2848252,
           240906,
           2215884,
           "Mexico"
          ],
          [
           2447454,
           72013,
           2222338,
           "South Africa"
          ],
          [
           2333409,
           55556,
           2255695,
           "Ukraine"
          ],
          [
           2111393,
           196353,
           2078316,
           "Peru"
          ],
          [
           1895343,
           18114,
           28329,
           "Netherlands"
          ],
          [
           1673576,
           30373,
           1640314,
           "Czechia"
          ],
          [
           1626599,
           18657,
           1464273,
           "Iraq"
          ],
          [
           1615771,
           35448,
           1570492,
           "Chile"
          ],
          [
           1588965,
           27889,
           1500189,
           "Philippines"
          ],
          [
           1438457,
           26599,
           1404107,
           "Canada"
          ],
          [
           1249484,
           20685,
           1078212,
           "Bangladesh"
          ],
          [
           1124715,
           25241,
           0,
           "Belgium"
          ],
          [
           1113272,
           9024,
           914637,
           "Malaysia"
          ],
          [
           1100040,
           14655,
           0,
           "Sweden"
          ],
          [
           1083189,
           34281,
           1047723,
           "Romania"
          ],
          [
           1034837,
           23422,
           941659,
           "Pakistan"
          ],
          [
           968631,
           17361,
           902014,
           "Portugal"
          ],
          [
           926604,
           15191,
           834811,
           "Japan"
          ],
          [
           874018,
           6473,
           849013,
           "Israel"
          ],
          [
           809491,
           30026,
           748157,
           "Hungary"
          ],
          [
           776444,
           12540,
           255300,
           "Slovakia"
          ],
          [
           770712,
           10032,
           750518,
           "Jordan"
          ],
          [
           721918,
           7114,
           0,
           "Serbia"
          ],
          [
           717665,
           10793,
           317600,
           "Switzerland"
          ],
          [
           695389,
           9857,
           654177,
           "Nepal"
          ],
          [
           680858,
           1949,
           658198,
           "United Arab Emirates"
          ],
          [
           659056,
           10737,
           643027,
           "Austria"
          ],
          [
           633469,
           9077,
           527894,
           "Kazakhstan"
          ],
          [
           623528,
           9785,
           561930,
           "Morocco"
          ],
          [
           597287,
           4857,
           26873,
           "Thailand"
          ],
          [
           589565,
           19686,
           510696,
           "Tunisia"
          ],
          [
           561380,
           7906,
           537111,
           "Lebanon"
          ],
          [
           525730,
           8237,
           506089,
           "Saudi Arabia"
          ],
          [
           493304,
           12965,
           93764,
           "Greece"
          ],
          [
           487372,
           31631,
           443880,
           "Ecuador"
          ],
          [
           473506,
           17821,
           407932,
           "Bolivia"
          ],
          [
           452388,
           14981,
           420031,
           "Paraguay"
          ],
          [
           446040,
           3454,
           440200,
           "Belarus"
          ],
          [
           435655,
           6823,
           416263,
           "Panama"
          ],
          [
           425054,
           18213,
           398545,
           "Bulgaria"
          ],
          [
           419534,
           5820,
           382393,
           "Georgia"
          ],
          [
           406814,
           5030,
           329639,
           "Costa Rica"
          ],
          [
           397831,
           2320,
           384062,
           "Kuwait"
          ],
          [
           384596,
           2758,
           338968,
           "Cuba"
          ],
          [
           381517,
           5964,
           373481,
           "Uruguay"
          ],
          [
           368484,
           10339,
           321832,
           "Guatemala"
          ],
          [
           363615,
           8259,
           354238,
           "Croatia"
          ],
          [
           343849,
           5023,
           332926,
           "Azerbaijan"
          ],
          [
           341905,
           3963,
           323333,
           "Dominican Republic"
          ],
          [
           317909,
           2551,
           304203,
           "Denmark"
          ],
          [
           316738,
           3603,
           311832,
           "West Bank and Gaza"
          ],
          [
           308812,
           4436,
           277118,
           "Sri Lanka"
          ],
          [
           305766,
           3591,
           290181,
           "Venezuela"
          ],
          [
           300976,
           5035,
           23364,
           "Ireland"
          ],
          [
           299185,
           9334,
           209512,
           "Burma"
          ],
          [
           297111,
           7834,
           100697,
           "Honduras"
          ],
          [
           295857,
           3814,
           278195,
           "Oman"
          ],
          [
           284262,
           16524,
           230368,
           "Egypt"
          ],
          [
           282818,
           4415,
           269309,
           "Lithuania"
          ],
          [
           280365,
           4385,
           263500,
           "Ethiopia"
          ],
          [
           269186,
           1384,
           266796,
           "Bahrain"
          ],
          [
           259478,
           6255,
           252051,
           "Moldova"
          ],
          [
           259215,
           4429,
           253742,
           "Slovenia"
          ],
          [
           249114,
           3509,
           190978,
           "Libya"
          ],
          [
           230110,
           4614,
           219864,
           "Armenia"
          ],
          [
           226239,
           601,
           223732,
           "Qatar"
          ],
          [
           205655,
           9687,
           189369,
           "Bosnia and Herzegovina"
          ],
          [
           203213,
           3931,
           188936,
           "Kenya"
          ],
          [
           199787,
           2098,
           175674,
           "Korea, South"
          ],
          [
           195816,
           3389,
           187236,
           "Zambia"
          ],
          [
           173908,
           2149,
           164994,
           "Nigeria"
          ],
          [
           171392,
           4254,
           115276,
           "Algeria"
          ],
          [
           164155,
           815,
           164829,
           "Mongolia"
          ],
          [
           162892,
           2325,
           144564,
           "Kyrgyzstan"
          ],
          [
           156380,
           5493,
           150362,
           "North Macedonia"
          ],
          [
           150060,
           1306,
           38734,
           "Vietnam"
          ],
          [
           147154,
           6708,
           82586,
           "Afghanistan"
          ],
          [
           138863,
           2556,
           135583,
           "Latvia"
          ],
          [
           137627,
           799,
           17998,
           "Norway"
          ],
          [
           133557,
           1272,
           128898,
           "Estonia"
          ],
          [
           133081,
           2457,
           130222,
           "Albania"
          ],
          [
           129327,
           874,
           123164,
           "Uzbekistan"
          ],
          [
           122028,
           1434,
           88380,
           "Mozambique"
          ],
          [
           118922,
           3044,
           95250,
           "Namibia"
          ],
          [
           108860,
           3532,
           75856,
           "Zimbabwe"
          ],
          [
           108365,
           2269,
           105657,
           "Kosovo"
          ],
          [
           106802,
           984,
           46000,
           "Finland"
          ],
          [
           106690,
           1569,
           95323,
           "Botswana"
          ],
          [
           105050,
           4848,
           99119,
           "China"
          ],
          [
           103019,
           823,
           97213,
           "Ghana"
          ],
          [
           102926,
           420,
           39061,
           "Cyprus"
          ],
          [
           101927,
           1630,
           98971,
           "Montenegro"
          ],
          [
           93927,
           2690,
           83115,
           "Uganda"
          ],
          [
           86620,
           2629,
           76265,
           "El Salvador"
          ],
          [
           82064,
           1334,
           35261,
           "Cameroon"
          ],
          [
           77432,
           221,
           74598,
           "Maldives"
          ],
          [
           77243,
           1397,
           69996,
           "Cambodia"
          ],
          [
           73870,
           822,
           71867,
           "Luxembourg"
          ],
          [
           70698,
           808,
           44837,
           "Rwanda"
          ],
          [
           64981,
           37,
           62863,
           "Singapore"
          ],
          [
           62290,
           1353,
           47136,
           "Senegal"
          ],
          [
           52895,
           1190,
           46979,
           "Jamaica"
          ],
          [
           52347,
           1635,
           38005,
           "Malawi"
          ],
          [
           50135,
           329,
           49261,
           "Cote d'Ivoire"
          ],
          [
           49917,
           1038,
           29994,
           "Congo (Kinshasa)"
          ],
          [
           42777,
           1011,
           37255,
           "Angola"
          ],
          [
           42663,
           943,
           41143,
           "Madagascar"
          ],
          [
           38811,
           1070,
           31783,
           "Trinidad and Tobago"
          ],
          [
           37138,
           2776,
           30647,
           "Sudan"
          ],
          [
           34383,
           924,
           24093,
           "Australia"
          ],
          [
           34295,
           423,
           31629,
           "Malta"
          ],
          [
           33791,
           298,
           33011,
           "Cabo Verde"
          ],
          [
           29781,
           238,
           7705,
           "Fiji"
          ],
          [
           25979,
           787,
           20918,
           "Eswatini"
          ],
          [
           25963,
           1914,
           21987,
           "Syria"
          ],
          [
           25691,
           562,
           22228,
           "Mauritania"
          ],
          [
           25688,
           220,
           24148,
           "Guinea"
          ],
          [
           25384,
           164,
           25166,
           "Gabon"
          ],
          [
           25351,
           649,
           21700,
           "Suriname"
          ],
          [
           22523,
           541,
           21183,
           "Guyana"
          ],
          [
           20077,
           545,
           12961,
           "Haiti"
          ],
          [
           18328,
           79,
           17538,
           "Seychelles"
          ],
          [
           17717,
           192,
           17324,
           "Papua New Guinea"
          ],
          [
           15798,
           152,
           14450,
           "Togo"
          ],
          [
           15674,
           787,
           12856,
           "Taiwan*"
          ],
          [
           15482,
           122,
           14556,
           "Tajikistan"
          ],
          [
           15403,
           811,
           7533,
           "Somalia"
          ],
          [
           14840,
           287,
           12606,
           "Bahamas"
          ],
          [
           14678,
           128,
           14210,
           "Andorra"
          ],
          [
           14584,
           532,
           13945,
           "Mali"
          ],
          [
           14163,
           337,
           13420,
           "Belize"
          ],
          [
           13573,
           169,
           13369,
           "Burkina Faso"
          ],
          [
           13186,
           178,
           12421,
           "Congo (Brazzaville)"
          ],
          [
           12908,
           374,
           6649,
           "Lesotho"
          ],
          [
           11651,
           156,
           11490,
           "Djibouti"
          ],
          [
           11049,
           119,
           10514,
           "South Sudan"
          ],
          [
           10898,
           26,
           9889,
           "Timor-Leste"
          ],
          [
           9470,
           195,
           4225,
           "Nicaragua"
          ],
          [
           8880,
           123,
           8637,
           "Equatorial Guinea"
          ],
          [
           8394,
           108,
           8136,
           "Benin"
          ],
          [
           7959,
           30,
           6716,
           "Iceland"
          ],
          [
           7709,
           212,
           6600,
           "Gambia"
          ],
          [
           7151,
           98,
           6859,
           "Central African Republic"
          ],
          [
           7080,
           9,
           773,
           "Burundi"
          ],
          [
           7061,
           1375,
           4185,
           "Yemen"
          ],
          [
           6547,
           35,
           6444,
           "Eritrea"
          ],
          [
           6299,
           7,
           2804,
           "Laos"
          ],
          [
           6283,
           120,
           4270,
           "Sierra Leone"
          ],
          [
           5623,
           195,
           5342,
           "Niger"
          ],
          [
           5610,
           89,
           5377,
           "Saint Lucia"
          ],
          [
           5404,
           148,
           2715,
           "Liberia"
          ],
          [
           5143,
           90,
           5005,
           "San Marino"
          ],
          [
           4973,
           174,
           4792,
           "Chad"
          ],
          [
           4479,
           76,
           3929,
           "Guinea-Bissau"
          ],
          [
           4390,
           48,
           4229,
           "Barbados"
          ],
          [
           4028,
           147,
           3865,
           "Comoros"
          ],
          [
           3913,
           19,
           1854,
           "Mauritius"
          ],
          [
           3187,
           58,
           3009,
           "Liechtenstein"
          ],
          [
           2889,
           33,
           2707,
           "Monaco"
          ],
          [
           2874,
           26,
           2811,
           "New Zealand"
          ],
          [
           2515,
           2,
           2374,
           "Bhutan"
          ],
          [
           2454,
           37,
           2358,
           "Sao Tome and Principe"
          ],
          [
           2291,
           12,
           2229,
           "Saint Vincent and the Grenadines"
          ],
          [
           1303,
           43,
           1235,
           "Antigua and Barbuda"
          ],
          [
           1017,
           21,
           183,
           "Tanzania"
          ],
          [
           712,
           13,
           699,
           "Diamond Princess"
          ],
          [
           593,
           3,
           544,
           "Saint Kitts and Nevis"
          ],
          [
           337,
           3,
           280,
           "Brunei"
          ],
          [
           246,
           0,
           0,
           "Summer Olympics 2020"
          ],
          [
           210,
           0,
           200,
           "Dominica"
          ],
          [
           164,
           1,
           161,
           "Grenada"
          ],
          [
           27,
           0,
           27,
           "Holy See"
          ],
          [
           20,
           0,
           20,
           "Solomon Islands"
          ],
          [
           9,
           2,
           7,
           "MS Zaandam"
          ],
          [
           4,
           1,
           3,
           "Vanuatu"
          ],
          [
           4,
           0,
           4,
           "Marshall Islands"
          ],
          [
           3,
           0,
           3,
           "Samoa"
          ],
          [
           2,
           0,
           0,
           "Kiribati"
          ],
          [
           1,
           0,
           1,
           "Micronesia"
          ],
          [
           0,
           0,
           0,
           "Tonga"
          ],
          [
           0,
           0,
           0,
           "Palau"
          ]
         ],
         "geo": "geo",
         "hovertemplate": "<b>%{hovertext}</b><br><br>Confirmed=%{marker.color:,.2f}<br>Deaths=%{customdata[1]:,.2f}<br>Recovered=%{customdata[2]:,.2f}<extra></extra>",
         "hovertext": [
          "US",
          "India",
          "Brazil",
          "France",
          "Russia",
          "United Kingdom",
          "Turkey",
          "Argentina",
          "Colombia",
          "Spain",
          "Italy",
          "Iran",
          "Germany",
          "Indonesia",
          "Poland",
          "Mexico",
          "South Africa",
          "Ukraine",
          "Peru",
          "Netherlands",
          "Czechia",
          "Iraq",
          "Chile",
          "Philippines",
          "Canada",
          "Bangladesh",
          "Belgium",
          "Malaysia",
          "Sweden",
          "Romania",
          "Pakistan",
          "Portugal",
          "Japan",
          "Israel",
          "Hungary",
          "Slovakia",
          "Jordan",
          "Serbia",
          "Switzerland",
          "Nepal",
          "United Arab Emirates",
          "Austria",
          "Kazakhstan",
          "Morocco",
          "Thailand",
          "Tunisia",
          "Lebanon",
          "Saudi Arabia",
          "Greece",
          "Ecuador",
          "Bolivia",
          "Paraguay",
          "Belarus",
          "Panama",
          "Bulgaria",
          "Georgia",
          "Costa Rica",
          "Kuwait",
          "Cuba",
          "Uruguay",
          "Guatemala",
          "Croatia",
          "Azerbaijan",
          "Dominican Republic",
          "Denmark",
          "West Bank and Gaza",
          "Sri Lanka",
          "Venezuela",
          "Ireland",
          "Burma",
          "Honduras",
          "Oman",
          "Egypt",
          "Lithuania",
          "Ethiopia",
          "Bahrain",
          "Moldova",
          "Slovenia",
          "Libya",
          "Armenia",
          "Qatar",
          "Bosnia and Herzegovina",
          "Kenya",
          "Korea, South",
          "Zambia",
          "Nigeria",
          "Algeria",
          "Mongolia",
          "Kyrgyzstan",
          "North Macedonia",
          "Vietnam",
          "Afghanistan",
          "Latvia",
          "Norway",
          "Estonia",
          "Albania",
          "Uzbekistan",
          "Mozambique",
          "Namibia",
          "Zimbabwe",
          "Kosovo",
          "Finland",
          "Botswana",
          "China",
          "Ghana",
          "Cyprus",
          "Montenegro",
          "Uganda",
          "El Salvador",
          "Cameroon",
          "Maldives",
          "Cambodia",
          "Luxembourg",
          "Rwanda",
          "Singapore",
          "Senegal",
          "Jamaica",
          "Malawi",
          "Cote d'Ivoire",
          "Congo (Kinshasa)",
          "Angola",
          "Madagascar",
          "Trinidad and Tobago",
          "Sudan",
          "Australia",
          "Malta",
          "Cabo Verde",
          "Fiji",
          "Eswatini",
          "Syria",
          "Mauritania",
          "Guinea",
          "Gabon",
          "Suriname",
          "Guyana",
          "Haiti",
          "Seychelles",
          "Papua New Guinea",
          "Togo",
          "Taiwan*",
          "Tajikistan",
          "Somalia",
          "Bahamas",
          "Andorra",
          "Mali",
          "Belize",
          "Burkina Faso",
          "Congo (Brazzaville)",
          "Lesotho",
          "Djibouti",
          "South Sudan",
          "Timor-Leste",
          "Nicaragua",
          "Equatorial Guinea",
          "Benin",
          "Iceland",
          "Gambia",
          "Central African Republic",
          "Burundi",
          "Yemen",
          "Eritrea",
          "Laos",
          "Sierra Leone",
          "Niger",
          "Saint Lucia",
          "Liberia",
          "San Marino",
          "Chad",
          "Guinea-Bissau",
          "Barbados",
          "Comoros",
          "Mauritius",
          "Liechtenstein",
          "Monaco",
          "New Zealand",
          "Bhutan",
          "Sao Tome and Principe",
          "Saint Vincent and the Grenadines",
          "Antigua and Barbuda",
          "Tanzania",
          "Diamond Princess",
          "Saint Kitts and Nevis",
          "Brunei",
          "Summer Olympics 2020",
          "Dominica",
          "Grenada",
          "Holy See",
          "Solomon Islands",
          "MS Zaandam",
          "Vanuatu",
          "Marshall Islands",
          "Samoa",
          "Kiribati",
          "Micronesia",
          "Tonga",
          "Palau"
         ],
         "legendgroup": "",
         "locationmode": "country names",
         "locations": [
          "US",
          "India",
          "Brazil",
          "France",
          "Russia",
          "United Kingdom",
          "Turkey",
          "Argentina",
          "Colombia",
          "Spain",
          "Italy",
          "Iran",
          "Germany",
          "Indonesia",
          "Poland",
          "Mexico",
          "South Africa",
          "Ukraine",
          "Peru",
          "Netherlands",
          "Czechia",
          "Iraq",
          "Chile",
          "Philippines",
          "Canada",
          "Bangladesh",
          "Belgium",
          "Malaysia",
          "Sweden",
          "Romania",
          "Pakistan",
          "Portugal",
          "Japan",
          "Israel",
          "Hungary",
          "Slovakia",
          "Jordan",
          "Serbia",
          "Switzerland",
          "Nepal",
          "United Arab Emirates",
          "Austria",
          "Kazakhstan",
          "Morocco",
          "Thailand",
          "Tunisia",
          "Lebanon",
          "Saudi Arabia",
          "Greece",
          "Ecuador",
          "Bolivia",
          "Paraguay",
          "Belarus",
          "Panama",
          "Bulgaria",
          "Georgia",
          "Costa Rica",
          "Kuwait",
          "Cuba",
          "Uruguay",
          "Guatemala",
          "Croatia",
          "Azerbaijan",
          "Dominican Republic",
          "Denmark",
          "West Bank and Gaza",
          "Sri Lanka",
          "Venezuela",
          "Ireland",
          "Burma",
          "Honduras",
          "Oman",
          "Egypt",
          "Lithuania",
          "Ethiopia",
          "Bahrain",
          "Moldova",
          "Slovenia",
          "Libya",
          "Armenia",
          "Qatar",
          "Bosnia and Herzegovina",
          "Kenya",
          "Korea, South",
          "Zambia",
          "Nigeria",
          "Algeria",
          "Mongolia",
          "Kyrgyzstan",
          "North Macedonia",
          "Vietnam",
          "Afghanistan",
          "Latvia",
          "Norway",
          "Estonia",
          "Albania",
          "Uzbekistan",
          "Mozambique",
          "Namibia",
          "Zimbabwe",
          "Kosovo",
          "Finland",
          "Botswana",
          "China",
          "Ghana",
          "Cyprus",
          "Montenegro",
          "Uganda",
          "El Salvador",
          "Cameroon",
          "Maldives",
          "Cambodia",
          "Luxembourg",
          "Rwanda",
          "Singapore",
          "Senegal",
          "Jamaica",
          "Malawi",
          "Cote d'Ivoire",
          "Congo (Kinshasa)",
          "Angola",
          "Madagascar",
          "Trinidad and Tobago",
          "Sudan",
          "Australia",
          "Malta",
          "Cabo Verde",
          "Fiji",
          "Eswatini",
          "Syria",
          "Mauritania",
          "Guinea",
          "Gabon",
          "Suriname",
          "Guyana",
          "Haiti",
          "Seychelles",
          "Papua New Guinea",
          "Togo",
          "Taiwan*",
          "Tajikistan",
          "Somalia",
          "Bahamas",
          "Andorra",
          "Mali",
          "Belize",
          "Burkina Faso",
          "Congo (Brazzaville)",
          "Lesotho",
          "Djibouti",
          "South Sudan",
          "Timor-Leste",
          "Nicaragua",
          "Equatorial Guinea",
          "Benin",
          "Iceland",
          "Gambia",
          "Central African Republic",
          "Burundi",
          "Yemen",
          "Eritrea",
          "Laos",
          "Sierra Leone",
          "Niger",
          "Saint Lucia",
          "Liberia",
          "San Marino",
          "Chad",
          "Guinea-Bissau",
          "Barbados",
          "Comoros",
          "Mauritius",
          "Liechtenstein",
          "Monaco",
          "New Zealand",
          "Bhutan",
          "Sao Tome and Principe",
          "Saint Vincent and the Grenadines",
          "Antigua and Barbuda",
          "Tanzania",
          "Diamond Princess",
          "Saint Kitts and Nevis",
          "Brunei",
          "Summer Olympics 2020",
          "Dominica",
          "Grenada",
          "Holy See",
          "Solomon Islands",
          "MS Zaandam",
          "Vanuatu",
          "Marshall Islands",
          "Samoa",
          "Kiribati",
          "Micronesia",
          "Tonga",
          "Palau"
         ],
         "marker": {
          "color": [
           35065578,
           31655824,
           19922146,
           6190621,
           6185249,
           5883421,
           5727045,
           4929764,
           4785320,
           4447044,
           4350028,
           3871008,
           3776724,
           3409658,
           2882939,
           2848252,
           2447454,
           2333409,
           2111393,
           1895343,
           1673576,
           1626599,
           1615771,
           1588965,
           1438457,
           1249484,
           1124715,
           1113272,
           1100040,
           1083189,
           1034837,
           968631,
           926604,
           874018,
           809491,
           776444,
           770712,
           721918,
           717665,
           695389,
           680858,
           659056,
           633469,
           623528,
           597287,
           589565,
           561380,
           525730,
           493304,
           487372,
           473506,
           452388,
           446040,
           435655,
           425054,
           419534,
           406814,
           397831,
           384596,
           381517,
           368484,
           363615,
           343849,
           341905,
           317909,
           316738,
           308812,
           305766,
           300976,
           299185,
           297111,
           295857,
           284262,
           282818,
           280365,
           269186,
           259478,
           259215,
           249114,
           230110,
           226239,
           205655,
           203213,
           199787,
           195816,
           173908,
           171392,
           164155,
           162892,
           156380,
           150060,
           147154,
           138863,
           137627,
           133557,
           133081,
           129327,
           122028,
           118922,
           108860,
           108365,
           106802,
           106690,
           105050,
           103019,
           102926,
           101927,
           93927,
           86620,
           82064,
           77432,
           77243,
           73870,
           70698,
           64981,
           62290,
           52895,
           52347,
           50135,
           49917,
           42777,
           42663,
           38811,
           37138,
           34383,
           34295,
           33791,
           29781,
           25979,
           25963,
           25691,
           25688,
           25384,
           25351,
           22523,
           20077,
           18328,
           17717,
           15798,
           15674,
           15482,
           15403,
           14840,
           14678,
           14584,
           14163,
           13573,
           13186,
           12908,
           11651,
           11049,
           10898,
           9470,
           8880,
           8394,
           7959,
           7709,
           7151,
           7080,
           7061,
           6547,
           6299,
           6283,
           5623,
           5610,
           5404,
           5143,
           4973,
           4479,
           4390,
           4028,
           3913,
           3187,
           2889,
           2874,
           2515,
           2454,
           2291,
           1303,
           1017,
           712,
           593,
           337,
           246,
           210,
           164,
           27,
           20,
           9,
           4,
           4,
           3,
           2,
           1,
           0,
           0
          ],
          "coloraxis": "coloraxis",
          "size": [
           35065578,
           31655824,
           19922146,
           6190621,
           6185249,
           5883421,
           5727045,
           4929764,
           4785320,
           4447044,
           4350028,
           3871008,
           3776724,
           3409658,
           2882939,
           2848252,
           2447454,
           2333409,
           2111393,
           1895343,
           1673576,
           1626599,
           1615771,
           1588965,
           1438457,
           1249484,
           1124715,
           1113272,
           1100040,
           1083189,
           1034837,
           968631,
           926604,
           874018,
           809491,
           776444,
           770712,
           721918,
           717665,
           695389,
           680858,
           659056,
           633469,
           623528,
           597287,
           589565,
           561380,
           525730,
           493304,
           487372,
           473506,
           452388,
           446040,
           435655,
           425054,
           419534,
           406814,
           397831,
           384596,
           381517,
           368484,
           363615,
           343849,
           341905,
           317909,
           316738,
           308812,
           305766,
           300976,
           299185,
           297111,
           295857,
           284262,
           282818,
           280365,
           269186,
           259478,
           259215,
           249114,
           230110,
           226239,
           205655,
           203213,
           199787,
           195816,
           173908,
           171392,
           164155,
           162892,
           156380,
           150060,
           147154,
           138863,
           137627,
           133557,
           133081,
           129327,
           122028,
           118922,
           108860,
           108365,
           106802,
           106690,
           105050,
           103019,
           102926,
           101927,
           93927,
           86620,
           82064,
           77432,
           77243,
           73870,
           70698,
           64981,
           62290,
           52895,
           52347,
           50135,
           49917,
           42777,
           42663,
           38811,
           37138,
           34383,
           34295,
           33791,
           29781,
           25979,
           25963,
           25691,
           25688,
           25384,
           25351,
           22523,
           20077,
           18328,
           17717,
           15798,
           15674,
           15482,
           15403,
           14840,
           14678,
           14584,
           14163,
           13573,
           13186,
           12908,
           11651,
           11049,
           10898,
           9470,
           8880,
           8394,
           7959,
           7709,
           7151,
           7080,
           7061,
           6547,
           6299,
           6283,
           5623,
           5610,
           5404,
           5143,
           4973,
           4479,
           4390,
           4028,
           3913,
           3187,
           2889,
           2874,
           2515,
           2454,
           2291,
           1303,
           1017,
           712,
           593,
           337,
           246,
           210,
           164,
           27,
           20,
           9,
           4,
           4,
           3,
           2,
           1,
           0,
           0
          ],
          "sizemode": "area",
          "sizeref": 21915.98625,
          "symbol": "circle"
         },
         "mode": "markers",
         "name": "",
         "showlegend": false,
         "type": "scattergeo"
        }
       ],
       "layout": {
        "coloraxis": {
         "colorbar": {
          "title": {
           "text": "Confirmed"
          }
         },
         "colorscale": [
          [
           0,
           "#0d0887"
          ],
          [
           0.1111111111111111,
           "#46039f"
          ],
          [
           0.2222222222222222,
           "#7201a8"
          ],
          [
           0.3333333333333333,
           "#9c179e"
          ],
          [
           0.4444444444444444,
           "#bd3786"
          ],
          [
           0.5555555555555556,
           "#d8576b"
          ],
          [
           0.6666666666666666,
           "#ed7953"
          ],
          [
           0.7777777777777778,
           "#fb9f3a"
          ],
          [
           0.8888888888888888,
           "#fdca26"
          ],
          [
           1,
           "#f0f921"
          ]
         ]
        },
        "geo": {
         "center": {},
         "domain": {
          "x": [
           0,
           1
          ],
          "y": [
           0,
           1
          ]
         }
        },
        "legend": {
         "itemsizing": "constant",
         "tracegroupgap": 0
        },
        "margin": {
         "t": 60
        },
        "template": {
         "data": {
          "bar": [
           {
            "error_x": {
             "color": "#f2f5fa"
            },
            "error_y": {
             "color": "#f2f5fa"
            },
            "marker": {
             "line": {
              "color": "rgb(17,17,17)",
              "width": 0.5
             },
             "pattern": {
              "fillmode": "overlay",
              "size": 10,
              "solidity": 0.2
             }
            },
            "type": "bar"
           }
          ],
          "barpolar": [
           {
            "marker": {
             "line": {
              "color": "rgb(17,17,17)",
              "width": 0.5
             },
             "pattern": {
              "fillmode": "overlay",
              "size": 10,
              "solidity": 0.2
             }
            },
            "type": "barpolar"
           }
          ],
          "carpet": [
           {
            "aaxis": {
             "endlinecolor": "#A2B1C6",
             "gridcolor": "#506784",
             "linecolor": "#506784",
             "minorgridcolor": "#506784",
             "startlinecolor": "#A2B1C6"
            },
            "baxis": {
             "endlinecolor": "#A2B1C6",
             "gridcolor": "#506784",
             "linecolor": "#506784",
             "minorgridcolor": "#506784",
             "startlinecolor": "#A2B1C6"
            },
            "type": "carpet"
           }
          ],
          "choropleth": [
           {
            "colorbar": {
             "outlinewidth": 0,
             "ticks": ""
            },
            "type": "choropleth"
           }
          ],
          "contour": [
           {
            "colorbar": {
             "outlinewidth": 0,
             "ticks": ""
            },
            "colorscale": [
             [
              0,
              "#0d0887"
             ],
             [
              0.1111111111111111,
              "#46039f"
             ],
             [
              0.2222222222222222,
              "#7201a8"
             ],
             [
              0.3333333333333333,
              "#9c179e"
             ],
             [
              0.4444444444444444,
              "#bd3786"
             ],
             [
              0.5555555555555556,
              "#d8576b"
             ],
             [
              0.6666666666666666,
              "#ed7953"
             ],
             [
              0.7777777777777778,
              "#fb9f3a"
             ],
             [
              0.8888888888888888,
              "#fdca26"
             ],
             [
              1,
              "#f0f921"
             ]
            ],
            "type": "contour"
           }
          ],
          "contourcarpet": [
           {
            "colorbar": {
             "outlinewidth": 0,
             "ticks": ""
            },
            "type": "contourcarpet"
           }
          ],
          "heatmap": [
           {
            "colorbar": {
             "outlinewidth": 0,
             "ticks": ""
            },
            "colorscale": [
             [
              0,
              "#0d0887"
             ],
             [
              0.1111111111111111,
              "#46039f"
             ],
             [
              0.2222222222222222,
              "#7201a8"
             ],
             [
              0.3333333333333333,
              "#9c179e"
             ],
             [
              0.4444444444444444,
              "#bd3786"
             ],
             [
              0.5555555555555556,
              "#d8576b"
             ],
             [
              0.6666666666666666,
              "#ed7953"
             ],
             [
              0.7777777777777778,
              "#fb9f3a"
             ],
             [
              0.8888888888888888,
              "#fdca26"
             ],
             [
              1,
              "#f0f921"
             ]
            ],
            "type": "heatmap"
           }
          ],
          "heatmapgl": [
           {
            "colorbar": {
             "outlinewidth": 0,
             "ticks": ""
            },
            "colorscale": [
             [
              0,
              "#0d0887"
             ],
             [
              0.1111111111111111,
              "#46039f"
             ],
             [
              0.2222222222222222,
              "#7201a8"
             ],
             [
              0.3333333333333333,
              "#9c179e"
             ],
             [
              0.4444444444444444,
              "#bd3786"
             ],
             [
              0.5555555555555556,
              "#d8576b"
             ],
             [
              0.6666666666666666,
              "#ed7953"
             ],
             [
              0.7777777777777778,
              "#fb9f3a"
             ],
             [
              0.8888888888888888,
              "#fdca26"
             ],
             [
              1,
              "#f0f921"
             ]
            ],
            "type": "heatmapgl"
           }
          ],
          "histogram": [
           {
            "marker": {
             "pattern": {
              "fillmode": "overlay",
              "size": 10,
              "solidity": 0.2
             }
            },
            "type": "histogram"
           }
          ],
          "histogram2d": [
           {
            "colorbar": {
             "outlinewidth": 0,
             "ticks": ""
            },
            "colorscale": [
             [
              0,
              "#0d0887"
             ],
             [
              0.1111111111111111,
              "#46039f"
             ],
             [
              0.2222222222222222,
              "#7201a8"
             ],
             [
              0.3333333333333333,
              "#9c179e"
             ],
             [
              0.4444444444444444,
              "#bd3786"
             ],
             [
              0.5555555555555556,
              "#d8576b"
             ],
             [
              0.6666666666666666,
              "#ed7953"
             ],
             [
              0.7777777777777778,
              "#fb9f3a"
             ],
             [
              0.8888888888888888,
              "#fdca26"
             ],
             [
              1,
              "#f0f921"
             ]
            ],
            "type": "histogram2d"
           }
          ],
          "histogram2dcontour": [
           {
            "colorbar": {
             "outlinewidth": 0,
             "ticks": ""
            },
            "colorscale": [
             [
              0,
              "#0d0887"
             ],
             [
              0.1111111111111111,
              "#46039f"
             ],
             [
              0.2222222222222222,
              "#7201a8"
             ],
             [
              0.3333333333333333,
              "#9c179e"
             ],
             [
              0.4444444444444444,
              "#bd3786"
             ],
             [
              0.5555555555555556,
              "#d8576b"
             ],
             [
              0.6666666666666666,
              "#ed7953"
             ],
             [
              0.7777777777777778,
              "#fb9f3a"
             ],
             [
              0.8888888888888888,
              "#fdca26"
             ],
             [
              1,
              "#f0f921"
             ]
            ],
            "type": "histogram2dcontour"
           }
          ],
          "mesh3d": [
           {
            "colorbar": {
             "outlinewidth": 0,
             "ticks": ""
            },
            "type": "mesh3d"
           }
          ],
          "parcoords": [
           {
            "line": {
             "colorbar": {
              "outlinewidth": 0,
              "ticks": ""
             }
            },
            "type": "parcoords"
           }
          ],
          "pie": [
           {
            "automargin": true,
            "type": "pie"
           }
          ],
          "scatter": [
           {
            "marker": {
             "line": {
              "color": "#283442"
             }
            },
            "type": "scatter"
           }
          ],
          "scatter3d": [
           {
            "line": {
             "colorbar": {
              "outlinewidth": 0,
              "ticks": ""
             }
            },
            "marker": {
             "colorbar": {
              "outlinewidth": 0,
              "ticks": ""
             }
            },
            "type": "scatter3d"
           }
          ],
          "scattercarpet": [
           {
            "marker": {
             "colorbar": {
              "outlinewidth": 0,
              "ticks": ""
             }
            },
            "type": "scattercarpet"
           }
          ],
          "scattergeo": [
           {
            "marker": {
             "colorbar": {
              "outlinewidth": 0,
              "ticks": ""
             }
            },
            "type": "scattergeo"
           }
          ],
          "scattergl": [
           {
            "marker": {
             "line": {
              "color": "#283442"
             }
            },
            "type": "scattergl"
           }
          ],
          "scattermapbox": [
           {
            "marker": {
             "colorbar": {
              "outlinewidth": 0,
              "ticks": ""
             }
            },
            "type": "scattermapbox"
           }
          ],
          "scatterpolar": [
           {
            "marker": {
             "colorbar": {
              "outlinewidth": 0,
              "ticks": ""
             }
            },
            "type": "scatterpolar"
           }
          ],
          "scatterpolargl": [
           {
            "marker": {
             "colorbar": {
              "outlinewidth": 0,
              "ticks": ""
             }
            },
            "type": "scatterpolargl"
           }
          ],
          "scatterternary": [
           {
            "marker": {
             "colorbar": {
              "outlinewidth": 0,
              "ticks": ""
             }
            },
            "type": "scatterternary"
           }
          ],
          "surface": [
           {
            "colorbar": {
             "outlinewidth": 0,
             "ticks": ""
            },
            "colorscale": [
             [
              0,
              "#0d0887"
             ],
             [
              0.1111111111111111,
              "#46039f"
             ],
             [
              0.2222222222222222,
              "#7201a8"
             ],
             [
              0.3333333333333333,
              "#9c179e"
             ],
             [
              0.4444444444444444,
              "#bd3786"
             ],
             [
              0.5555555555555556,
              "#d8576b"
             ],
             [
              0.6666666666666666,
              "#ed7953"
             ],
             [
              0.7777777777777778,
              "#fb9f3a"
             ],
             [
              0.8888888888888888,
              "#fdca26"
             ],
             [
              1,
              "#f0f921"
             ]
            ],
            "type": "surface"
           }
          ],
          "table": [
           {
            "cells": {
             "fill": {
              "color": "#506784"
             },
             "line": {
              "color": "rgb(17,17,17)"
             }
            },
            "header": {
             "fill": {
              "color": "#2a3f5f"
             },
             "line": {
              "color": "rgb(17,17,17)"
             }
            },
            "type": "table"
           }
          ]
         },
         "layout": {
          "annotationdefaults": {
           "arrowcolor": "#f2f5fa",
           "arrowhead": 0,
           "arrowwidth": 1
          },
          "autotypenumbers": "strict",
          "coloraxis": {
           "colorbar": {
            "outlinewidth": 0,
            "ticks": ""
           }
          },
          "colorscale": {
           "diverging": [
            [
             0,
             "#8e0152"
            ],
            [
             0.1,
             "#c51b7d"
            ],
            [
             0.2,
             "#de77ae"
            ],
            [
             0.3,
             "#f1b6da"
            ],
            [
             0.4,
             "#fde0ef"
            ],
            [
             0.5,
             "#f7f7f7"
            ],
            [
             0.6,
             "#e6f5d0"
            ],
            [
             0.7,
             "#b8e186"
            ],
            [
             0.8,
             "#7fbc41"
            ],
            [
             0.9,
             "#4d9221"
            ],
            [
             1,
             "#276419"
            ]
           ],
           "sequential": [
            [
             0,
             "#0d0887"
            ],
            [
             0.1111111111111111,
             "#46039f"
            ],
            [
             0.2222222222222222,
             "#7201a8"
            ],
            [
             0.3333333333333333,
             "#9c179e"
            ],
            [
             0.4444444444444444,
             "#bd3786"
            ],
            [
             0.5555555555555556,
             "#d8576b"
            ],
            [
             0.6666666666666666,
             "#ed7953"
            ],
            [
             0.7777777777777778,
             "#fb9f3a"
            ],
            [
             0.8888888888888888,
             "#fdca26"
            ],
            [
             1,
             "#f0f921"
            ]
           ],
           "sequentialminus": [
            [
             0,
             "#0d0887"
            ],
            [
             0.1111111111111111,
             "#46039f"
            ],
            [
             0.2222222222222222,
             "#7201a8"
            ],
            [
             0.3333333333333333,
             "#9c179e"
            ],
            [
             0.4444444444444444,
             "#bd3786"
            ],
            [
             0.5555555555555556,
             "#d8576b"
            ],
            [
             0.6666666666666666,
             "#ed7953"
            ],
            [
             0.7777777777777778,
             "#fb9f3a"
            ],
            [
             0.8888888888888888,
             "#fdca26"
            ],
            [
             1,
             "#f0f921"
            ]
           ]
          },
          "colorway": [
           "#636efa",
           "#EF553B",
           "#00cc96",
           "#ab63fa",
           "#FFA15A",
           "#19d3f3",
           "#FF6692",
           "#B6E880",
           "#FF97FF",
           "#FECB52"
          ],
          "font": {
           "color": "#f2f5fa"
          },
          "geo": {
           "bgcolor": "rgb(17,17,17)",
           "lakecolor": "rgb(17,17,17)",
           "landcolor": "rgb(17,17,17)",
           "showlakes": true,
           "showland": true,
           "subunitcolor": "#506784"
          },
          "hoverlabel": {
           "align": "left"
          },
          "hovermode": "closest",
          "mapbox": {
           "style": "dark"
          },
          "paper_bgcolor": "rgb(17,17,17)",
          "plot_bgcolor": "rgb(17,17,17)",
          "polar": {
           "angularaxis": {
            "gridcolor": "#506784",
            "linecolor": "#506784",
            "ticks": ""
           },
           "bgcolor": "rgb(17,17,17)",
           "radialaxis": {
            "gridcolor": "#506784",
            "linecolor": "#506784",
            "ticks": ""
           }
          },
          "scene": {
           "xaxis": {
            "backgroundcolor": "rgb(17,17,17)",
            "gridcolor": "#506784",
            "gridwidth": 2,
            "linecolor": "#506784",
            "showbackground": true,
            "ticks": "",
            "zerolinecolor": "#C8D4E3"
           },
           "yaxis": {
            "backgroundcolor": "rgb(17,17,17)",
            "gridcolor": "#506784",
            "gridwidth": 2,
            "linecolor": "#506784",
            "showbackground": true,
            "ticks": "",
            "zerolinecolor": "#C8D4E3"
           },
           "zaxis": {
            "backgroundcolor": "rgb(17,17,17)",
            "gridcolor": "#506784",
            "gridwidth": 2,
            "linecolor": "#506784",
            "showbackground": true,
            "ticks": "",
            "zerolinecolor": "#C8D4E3"
           }
          },
          "shapedefaults": {
           "line": {
            "color": "#f2f5fa"
           }
          },
          "sliderdefaults": {
           "bgcolor": "#C8D4E3",
           "bordercolor": "rgb(17,17,17)",
           "borderwidth": 1,
           "tickwidth": 0
          },
          "ternary": {
           "aaxis": {
            "gridcolor": "#506784",
            "linecolor": "#506784",
            "ticks": ""
           },
           "baxis": {
            "gridcolor": "#506784",
            "linecolor": "#506784",
            "ticks": ""
           },
           "bgcolor": "rgb(17,17,17)",
           "caxis": {
            "gridcolor": "#506784",
            "linecolor": "#506784",
            "ticks": ""
           }
          },
          "title": {
           "x": 0.05
          },
          "updatemenudefaults": {
           "bgcolor": "#506784",
           "borderwidth": 0
          },
          "xaxis": {
           "automargin": true,
           "gridcolor": "#283442",
           "linecolor": "#506784",
           "ticks": "",
           "title": {
            "standoff": 15
           },
           "zerolinecolor": "#283442",
           "zerolinewidth": 2
          },
          "yaxis": {
           "automargin": true,
           "gridcolor": "#283442",
           "linecolor": "#506784",
           "ticks": "",
           "title": {
            "standoff": 15
           },
           "zerolinecolor": "#283442",
           "zerolinewidth": 2
          }
         }
        }
       }
      },
      "text/html": [
       "<div>                            <div id=\"e5ba4b5b-e463-408e-92cb-2763d42d65a6\" class=\"plotly-graph-div\" style=\"height:525px; width:100%;\"></div>            <script type=\"text/javascript\">                require([\"plotly\"], function(Plotly) {                    window.PLOTLYENV=window.PLOTLYENV || {};                                    if (document.getElementById(\"e5ba4b5b-e463-408e-92cb-2763d42d65a6\")) {                    Plotly.newPlot(                        \"e5ba4b5b-e463-408e-92cb-2763d42d65a6\",                        [{\"customdata\":[[35065578,612958,0.0,\"US\"],[31655824,424351,30820521.0,\"India\"],[19922146,556676,17771228.0,\"Brazil\"],[6190621,112061,413170.0,\"France\"],[6185249,155952,5539787.0,\"Russia\"],[5883421,129949,20928.0,\"United Kingdom\"],[5727045,51332,5454360.0,\"Turkey\"],[4929764,105721,4569552.0,\"Argentina\"],[4785320,120723,4578519.0,\"Colombia\"],[4447044,81486,150376.0,\"Spain\"],[4350028,128063,4134680.0,\"Italy\"],[3871008,90630,3367272.0,\"Iran\"],[3776724,91666,3653150.0,\"Germany\"],[3409658,94119,2770092.0,\"Indonesia\"],[2882939,75261,2653700.0,\"Poland\"],[2848252,240906,2215884.0,\"Mexico\"],[2447454,72013,2222338.0,\"South Africa\"],[2333409,55556,2255695.0,\"Ukraine\"],[2111393,196353,2078316.0,\"Peru\"],[1895343,18114,28329.0,\"Netherlands\"],[1673576,30373,1640314.0,\"Czechia\"],[1626599,18657,1464273.0,\"Iraq\"],[1615771,35448,1570492.0,\"Chile\"],[1588965,27889,1500189.0,\"Philippines\"],[1438457,26599,1404107.0,\"Canada\"],[1249484,20685,1078212.0,\"Bangladesh\"],[1124715,25241,0.0,\"Belgium\"],[1113272,9024,914637.0,\"Malaysia\"],[1100040,14655,0.0,\"Sweden\"],[1083189,34281,1047723.0,\"Romania\"],[1034837,23422,941659.0,\"Pakistan\"],[968631,17361,902014.0,\"Portugal\"],[926604,15191,834811.0,\"Japan\"],[874018,6473,849013.0,\"Israel\"],[809491,30026,748157.0,\"Hungary\"],[776444,12540,255300.0,\"Slovakia\"],[770712,10032,750518.0,\"Jordan\"],[721918,7114,0.0,\"Serbia\"],[717665,10793,317600.0,\"Switzerland\"],[695389,9857,654177.0,\"Nepal\"],[680858,1949,658198.0,\"United Arab Emirates\"],[659056,10737,643027.0,\"Austria\"],[633469,9077,527894.0,\"Kazakhstan\"],[623528,9785,561930.0,\"Morocco\"],[597287,4857,26873.0,\"Thailand\"],[589565,19686,510696.0,\"Tunisia\"],[561380,7906,537111.0,\"Lebanon\"],[525730,8237,506089.0,\"Saudi Arabia\"],[493304,12965,93764.0,\"Greece\"],[487372,31631,443880.0,\"Ecuador\"],[473506,17821,407932.0,\"Bolivia\"],[452388,14981,420031.0,\"Paraguay\"],[446040,3454,440200.0,\"Belarus\"],[435655,6823,416263.0,\"Panama\"],[425054,18213,398545.0,\"Bulgaria\"],[419534,5820,382393.0,\"Georgia\"],[406814,5030,329639.0,\"Costa Rica\"],[397831,2320,384062.0,\"Kuwait\"],[384596,2758,338968.0,\"Cuba\"],[381517,5964,373481.0,\"Uruguay\"],[368484,10339,321832.0,\"Guatemala\"],[363615,8259,354238.0,\"Croatia\"],[343849,5023,332926.0,\"Azerbaijan\"],[341905,3963,323333.0,\"Dominican Republic\"],[317909,2551,304203.0,\"Denmark\"],[316738,3603,311832.0,\"West Bank and Gaza\"],[308812,4436,277118.0,\"Sri Lanka\"],[305766,3591,290181.0,\"Venezuela\"],[300976,5035,23364.0,\"Ireland\"],[299185,9334,209512.0,\"Burma\"],[297111,7834,100697.0,\"Honduras\"],[295857,3814,278195.0,\"Oman\"],[284262,16524,230368.0,\"Egypt\"],[282818,4415,269309.0,\"Lithuania\"],[280365,4385,263500.0,\"Ethiopia\"],[269186,1384,266796.0,\"Bahrain\"],[259478,6255,252051.0,\"Moldova\"],[259215,4429,253742.0,\"Slovenia\"],[249114,3509,190978.0,\"Libya\"],[230110,4614,219864.0,\"Armenia\"],[226239,601,223732.0,\"Qatar\"],[205655,9687,189369.0,\"Bosnia and Herzegovina\"],[203213,3931,188936.0,\"Kenya\"],[199787,2098,175674.0,\"Korea, South\"],[195816,3389,187236.0,\"Zambia\"],[173908,2149,164994.0,\"Nigeria\"],[171392,4254,115276.0,\"Algeria\"],[164155,815,164829.0,\"Mongolia\"],[162892,2325,144564.0,\"Kyrgyzstan\"],[156380,5493,150362.0,\"North Macedonia\"],[150060,1306,38734.0,\"Vietnam\"],[147154,6708,82586.0,\"Afghanistan\"],[138863,2556,135583.0,\"Latvia\"],[137627,799,17998.0,\"Norway\"],[133557,1272,128898.0,\"Estonia\"],[133081,2457,130222.0,\"Albania\"],[129327,874,123164.0,\"Uzbekistan\"],[122028,1434,88380.0,\"Mozambique\"],[118922,3044,95250.0,\"Namibia\"],[108860,3532,75856.0,\"Zimbabwe\"],[108365,2269,105657.0,\"Kosovo\"],[106802,984,46000.0,\"Finland\"],[106690,1569,95323.0,\"Botswana\"],[105050,4848,99119.0,\"China\"],[103019,823,97213.0,\"Ghana\"],[102926,420,39061.0,\"Cyprus\"],[101927,1630,98971.0,\"Montenegro\"],[93927,2690,83115.0,\"Uganda\"],[86620,2629,76265.0,\"El Salvador\"],[82064,1334,35261.0,\"Cameroon\"],[77432,221,74598.0,\"Maldives\"],[77243,1397,69996.0,\"Cambodia\"],[73870,822,71867.0,\"Luxembourg\"],[70698,808,44837.0,\"Rwanda\"],[64981,37,62863.0,\"Singapore\"],[62290,1353,47136.0,\"Senegal\"],[52895,1190,46979.0,\"Jamaica\"],[52347,1635,38005.0,\"Malawi\"],[50135,329,49261.0,\"Cote d'Ivoire\"],[49917,1038,29994.0,\"Congo (Kinshasa)\"],[42777,1011,37255.0,\"Angola\"],[42663,943,41143.0,\"Madagascar\"],[38811,1070,31783.0,\"Trinidad and Tobago\"],[37138,2776,30647.0,\"Sudan\"],[34383,924,24093.0,\"Australia\"],[34295,423,31629.0,\"Malta\"],[33791,298,33011.0,\"Cabo Verde\"],[29781,238,7705.0,\"Fiji\"],[25979,787,20918.0,\"Eswatini\"],[25963,1914,21987.0,\"Syria\"],[25691,562,22228.0,\"Mauritania\"],[25688,220,24148.0,\"Guinea\"],[25384,164,25166.0,\"Gabon\"],[25351,649,21700.0,\"Suriname\"],[22523,541,21183.0,\"Guyana\"],[20077,545,12961.0,\"Haiti\"],[18328,79,17538.0,\"Seychelles\"],[17717,192,17324.0,\"Papua New Guinea\"],[15798,152,14450.0,\"Togo\"],[15674,787,12856.0,\"Taiwan*\"],[15482,122,14556.0,\"Tajikistan\"],[15403,811,7533.0,\"Somalia\"],[14840,287,12606.0,\"Bahamas\"],[14678,128,14210.0,\"Andorra\"],[14584,532,13945.0,\"Mali\"],[14163,337,13420.0,\"Belize\"],[13573,169,13369.0,\"Burkina Faso\"],[13186,178,12421.0,\"Congo (Brazzaville)\"],[12908,374,6649.0,\"Lesotho\"],[11651,156,11490.0,\"Djibouti\"],[11049,119,10514.0,\"South Sudan\"],[10898,26,9889.0,\"Timor-Leste\"],[9470,195,4225.0,\"Nicaragua\"],[8880,123,8637.0,\"Equatorial Guinea\"],[8394,108,8136.0,\"Benin\"],[7959,30,6716.0,\"Iceland\"],[7709,212,6600.0,\"Gambia\"],[7151,98,6859.0,\"Central African Republic\"],[7080,9,773.0,\"Burundi\"],[7061,1375,4185.0,\"Yemen\"],[6547,35,6444.0,\"Eritrea\"],[6299,7,2804.0,\"Laos\"],[6283,120,4270.0,\"Sierra Leone\"],[5623,195,5342.0,\"Niger\"],[5610,89,5377.0,\"Saint Lucia\"],[5404,148,2715.0,\"Liberia\"],[5143,90,5005.0,\"San Marino\"],[4973,174,4792.0,\"Chad\"],[4479,76,3929.0,\"Guinea-Bissau\"],[4390,48,4229.0,\"Barbados\"],[4028,147,3865.0,\"Comoros\"],[3913,19,1854.0,\"Mauritius\"],[3187,58,3009.0,\"Liechtenstein\"],[2889,33,2707.0,\"Monaco\"],[2874,26,2811.0,\"New Zealand\"],[2515,2,2374.0,\"Bhutan\"],[2454,37,2358.0,\"Sao Tome and Principe\"],[2291,12,2229.0,\"Saint Vincent and the Grenadines\"],[1303,43,1235.0,\"Antigua and Barbuda\"],[1017,21,183.0,\"Tanzania\"],[712,13,699.0,\"Diamond Princess\"],[593,3,544.0,\"Saint Kitts and Nevis\"],[337,3,280.0,\"Brunei\"],[246,0,0.0,\"Summer Olympics 2020\"],[210,0,200.0,\"Dominica\"],[164,1,161.0,\"Grenada\"],[27,0,27.0,\"Holy See\"],[20,0,20.0,\"Solomon Islands\"],[9,2,7.0,\"MS Zaandam\"],[4,1,3.0,\"Vanuatu\"],[4,0,4.0,\"Marshall Islands\"],[3,0,3.0,\"Samoa\"],[2,0,0.0,\"Kiribati\"],[1,0,1.0,\"Micronesia\"],[0,0,0.0,\"Tonga\"],[0,0,0.0,\"Palau\"]],\"geo\":\"geo\",\"hovertemplate\":\"<b>%{hovertext}</b><br><br>Confirmed=%{marker.color:,.2f}<br>Deaths=%{customdata[1]:,.2f}<br>Recovered=%{customdata[2]:,.2f}<extra></extra>\",\"hovertext\":[\"US\",\"India\",\"Brazil\",\"France\",\"Russia\",\"United Kingdom\",\"Turkey\",\"Argentina\",\"Colombia\",\"Spain\",\"Italy\",\"Iran\",\"Germany\",\"Indonesia\",\"Poland\",\"Mexico\",\"South Africa\",\"Ukraine\",\"Peru\",\"Netherlands\",\"Czechia\",\"Iraq\",\"Chile\",\"Philippines\",\"Canada\",\"Bangladesh\",\"Belgium\",\"Malaysia\",\"Sweden\",\"Romania\",\"Pakistan\",\"Portugal\",\"Japan\",\"Israel\",\"Hungary\",\"Slovakia\",\"Jordan\",\"Serbia\",\"Switzerland\",\"Nepal\",\"United Arab Emirates\",\"Austria\",\"Kazakhstan\",\"Morocco\",\"Thailand\",\"Tunisia\",\"Lebanon\",\"Saudi Arabia\",\"Greece\",\"Ecuador\",\"Bolivia\",\"Paraguay\",\"Belarus\",\"Panama\",\"Bulgaria\",\"Georgia\",\"Costa Rica\",\"Kuwait\",\"Cuba\",\"Uruguay\",\"Guatemala\",\"Croatia\",\"Azerbaijan\",\"Dominican Republic\",\"Denmark\",\"West Bank and Gaza\",\"Sri Lanka\",\"Venezuela\",\"Ireland\",\"Burma\",\"Honduras\",\"Oman\",\"Egypt\",\"Lithuania\",\"Ethiopia\",\"Bahrain\",\"Moldova\",\"Slovenia\",\"Libya\",\"Armenia\",\"Qatar\",\"Bosnia and Herzegovina\",\"Kenya\",\"Korea, South\",\"Zambia\",\"Nigeria\",\"Algeria\",\"Mongolia\",\"Kyrgyzstan\",\"North Macedonia\",\"Vietnam\",\"Afghanistan\",\"Latvia\",\"Norway\",\"Estonia\",\"Albania\",\"Uzbekistan\",\"Mozambique\",\"Namibia\",\"Zimbabwe\",\"Kosovo\",\"Finland\",\"Botswana\",\"China\",\"Ghana\",\"Cyprus\",\"Montenegro\",\"Uganda\",\"El Salvador\",\"Cameroon\",\"Maldives\",\"Cambodia\",\"Luxembourg\",\"Rwanda\",\"Singapore\",\"Senegal\",\"Jamaica\",\"Malawi\",\"Cote d'Ivoire\",\"Congo (Kinshasa)\",\"Angola\",\"Madagascar\",\"Trinidad and Tobago\",\"Sudan\",\"Australia\",\"Malta\",\"Cabo Verde\",\"Fiji\",\"Eswatini\",\"Syria\",\"Mauritania\",\"Guinea\",\"Gabon\",\"Suriname\",\"Guyana\",\"Haiti\",\"Seychelles\",\"Papua New Guinea\",\"Togo\",\"Taiwan*\",\"Tajikistan\",\"Somalia\",\"Bahamas\",\"Andorra\",\"Mali\",\"Belize\",\"Burkina Faso\",\"Congo (Brazzaville)\",\"Lesotho\",\"Djibouti\",\"South Sudan\",\"Timor-Leste\",\"Nicaragua\",\"Equatorial Guinea\",\"Benin\",\"Iceland\",\"Gambia\",\"Central African Republic\",\"Burundi\",\"Yemen\",\"Eritrea\",\"Laos\",\"Sierra Leone\",\"Niger\",\"Saint Lucia\",\"Liberia\",\"San Marino\",\"Chad\",\"Guinea-Bissau\",\"Barbados\",\"Comoros\",\"Mauritius\",\"Liechtenstein\",\"Monaco\",\"New Zealand\",\"Bhutan\",\"Sao Tome and Principe\",\"Saint Vincent and the Grenadines\",\"Antigua and Barbuda\",\"Tanzania\",\"Diamond Princess\",\"Saint Kitts and Nevis\",\"Brunei\",\"Summer Olympics 2020\",\"Dominica\",\"Grenada\",\"Holy See\",\"Solomon Islands\",\"MS Zaandam\",\"Vanuatu\",\"Marshall Islands\",\"Samoa\",\"Kiribati\",\"Micronesia\",\"Tonga\",\"Palau\"],\"legendgroup\":\"\",\"locationmode\":\"country names\",\"locations\":[\"US\",\"India\",\"Brazil\",\"France\",\"Russia\",\"United Kingdom\",\"Turkey\",\"Argentina\",\"Colombia\",\"Spain\",\"Italy\",\"Iran\",\"Germany\",\"Indonesia\",\"Poland\",\"Mexico\",\"South Africa\",\"Ukraine\",\"Peru\",\"Netherlands\",\"Czechia\",\"Iraq\",\"Chile\",\"Philippines\",\"Canada\",\"Bangladesh\",\"Belgium\",\"Malaysia\",\"Sweden\",\"Romania\",\"Pakistan\",\"Portugal\",\"Japan\",\"Israel\",\"Hungary\",\"Slovakia\",\"Jordan\",\"Serbia\",\"Switzerland\",\"Nepal\",\"United Arab Emirates\",\"Austria\",\"Kazakhstan\",\"Morocco\",\"Thailand\",\"Tunisia\",\"Lebanon\",\"Saudi Arabia\",\"Greece\",\"Ecuador\",\"Bolivia\",\"Paraguay\",\"Belarus\",\"Panama\",\"Bulgaria\",\"Georgia\",\"Costa Rica\",\"Kuwait\",\"Cuba\",\"Uruguay\",\"Guatemala\",\"Croatia\",\"Azerbaijan\",\"Dominican Republic\",\"Denmark\",\"West Bank and Gaza\",\"Sri Lanka\",\"Venezuela\",\"Ireland\",\"Burma\",\"Honduras\",\"Oman\",\"Egypt\",\"Lithuania\",\"Ethiopia\",\"Bahrain\",\"Moldova\",\"Slovenia\",\"Libya\",\"Armenia\",\"Qatar\",\"Bosnia and Herzegovina\",\"Kenya\",\"Korea, South\",\"Zambia\",\"Nigeria\",\"Algeria\",\"Mongolia\",\"Kyrgyzstan\",\"North Macedonia\",\"Vietnam\",\"Afghanistan\",\"Latvia\",\"Norway\",\"Estonia\",\"Albania\",\"Uzbekistan\",\"Mozambique\",\"Namibia\",\"Zimbabwe\",\"Kosovo\",\"Finland\",\"Botswana\",\"China\",\"Ghana\",\"Cyprus\",\"Montenegro\",\"Uganda\",\"El Salvador\",\"Cameroon\",\"Maldives\",\"Cambodia\",\"Luxembourg\",\"Rwanda\",\"Singapore\",\"Senegal\",\"Jamaica\",\"Malawi\",\"Cote d'Ivoire\",\"Congo (Kinshasa)\",\"Angola\",\"Madagascar\",\"Trinidad and Tobago\",\"Sudan\",\"Australia\",\"Malta\",\"Cabo Verde\",\"Fiji\",\"Eswatini\",\"Syria\",\"Mauritania\",\"Guinea\",\"Gabon\",\"Suriname\",\"Guyana\",\"Haiti\",\"Seychelles\",\"Papua New Guinea\",\"Togo\",\"Taiwan*\",\"Tajikistan\",\"Somalia\",\"Bahamas\",\"Andorra\",\"Mali\",\"Belize\",\"Burkina Faso\",\"Congo (Brazzaville)\",\"Lesotho\",\"Djibouti\",\"South Sudan\",\"Timor-Leste\",\"Nicaragua\",\"Equatorial Guinea\",\"Benin\",\"Iceland\",\"Gambia\",\"Central African Republic\",\"Burundi\",\"Yemen\",\"Eritrea\",\"Laos\",\"Sierra Leone\",\"Niger\",\"Saint Lucia\",\"Liberia\",\"San Marino\",\"Chad\",\"Guinea-Bissau\",\"Barbados\",\"Comoros\",\"Mauritius\",\"Liechtenstein\",\"Monaco\",\"New Zealand\",\"Bhutan\",\"Sao Tome and Principe\",\"Saint Vincent and the Grenadines\",\"Antigua and Barbuda\",\"Tanzania\",\"Diamond Princess\",\"Saint Kitts and Nevis\",\"Brunei\",\"Summer Olympics 2020\",\"Dominica\",\"Grenada\",\"Holy See\",\"Solomon Islands\",\"MS Zaandam\",\"Vanuatu\",\"Marshall Islands\",\"Samoa\",\"Kiribati\",\"Micronesia\",\"Tonga\",\"Palau\"],\"marker\":{\"color\":[35065578,31655824,19922146,6190621,6185249,5883421,5727045,4929764,4785320,4447044,4350028,3871008,3776724,3409658,2882939,2848252,2447454,2333409,2111393,1895343,1673576,1626599,1615771,1588965,1438457,1249484,1124715,1113272,1100040,1083189,1034837,968631,926604,874018,809491,776444,770712,721918,717665,695389,680858,659056,633469,623528,597287,589565,561380,525730,493304,487372,473506,452388,446040,435655,425054,419534,406814,397831,384596,381517,368484,363615,343849,341905,317909,316738,308812,305766,300976,299185,297111,295857,284262,282818,280365,269186,259478,259215,249114,230110,226239,205655,203213,199787,195816,173908,171392,164155,162892,156380,150060,147154,138863,137627,133557,133081,129327,122028,118922,108860,108365,106802,106690,105050,103019,102926,101927,93927,86620,82064,77432,77243,73870,70698,64981,62290,52895,52347,50135,49917,42777,42663,38811,37138,34383,34295,33791,29781,25979,25963,25691,25688,25384,25351,22523,20077,18328,17717,15798,15674,15482,15403,14840,14678,14584,14163,13573,13186,12908,11651,11049,10898,9470,8880,8394,7959,7709,7151,7080,7061,6547,6299,6283,5623,5610,5404,5143,4973,4479,4390,4028,3913,3187,2889,2874,2515,2454,2291,1303,1017,712,593,337,246,210,164,27,20,9,4,4,3,2,1,0,0],\"coloraxis\":\"coloraxis\",\"size\":[35065578,31655824,19922146,6190621,6185249,5883421,5727045,4929764,4785320,4447044,4350028,3871008,3776724,3409658,2882939,2848252,2447454,2333409,2111393,1895343,1673576,1626599,1615771,1588965,1438457,1249484,1124715,1113272,1100040,1083189,1034837,968631,926604,874018,809491,776444,770712,721918,717665,695389,680858,659056,633469,623528,597287,589565,561380,525730,493304,487372,473506,452388,446040,435655,425054,419534,406814,397831,384596,381517,368484,363615,343849,341905,317909,316738,308812,305766,300976,299185,297111,295857,284262,282818,280365,269186,259478,259215,249114,230110,226239,205655,203213,199787,195816,173908,171392,164155,162892,156380,150060,147154,138863,137627,133557,133081,129327,122028,118922,108860,108365,106802,106690,105050,103019,102926,101927,93927,86620,82064,77432,77243,73870,70698,64981,62290,52895,52347,50135,49917,42777,42663,38811,37138,34383,34295,33791,29781,25979,25963,25691,25688,25384,25351,22523,20077,18328,17717,15798,15674,15482,15403,14840,14678,14584,14163,13573,13186,12908,11651,11049,10898,9470,8880,8394,7959,7709,7151,7080,7061,6547,6299,6283,5623,5610,5404,5143,4973,4479,4390,4028,3913,3187,2889,2874,2515,2454,2291,1303,1017,712,593,337,246,210,164,27,20,9,4,4,3,2,1,0,0],\"sizemode\":\"area\",\"sizeref\":21915.98625,\"symbol\":\"circle\"},\"mode\":\"markers\",\"name\":\"\",\"showlegend\":false,\"type\":\"scattergeo\"}],                        {\"template\":{\"data\":{\"barpolar\":[{\"marker\":{\"line\":{\"color\":\"rgb(17,17,17)\",\"width\":0.5},\"pattern\":{\"fillmode\":\"overlay\",\"size\":10,\"solidity\":0.2}},\"type\":\"barpolar\"}],\"bar\":[{\"error_x\":{\"color\":\"#f2f5fa\"},\"error_y\":{\"color\":\"#f2f5fa\"},\"marker\":{\"line\":{\"color\":\"rgb(17,17,17)\",\"width\":0.5},\"pattern\":{\"fillmode\":\"overlay\",\"size\":10,\"solidity\":0.2}},\"type\":\"bar\"}],\"carpet\":[{\"aaxis\":{\"endlinecolor\":\"#A2B1C6\",\"gridcolor\":\"#506784\",\"linecolor\":\"#506784\",\"minorgridcolor\":\"#506784\",\"startlinecolor\":\"#A2B1C6\"},\"baxis\":{\"endlinecolor\":\"#A2B1C6\",\"gridcolor\":\"#506784\",\"linecolor\":\"#506784\",\"minorgridcolor\":\"#506784\",\"startlinecolor\":\"#A2B1C6\"},\"type\":\"carpet\"}],\"choropleth\":[{\"colorbar\":{\"outlinewidth\":0,\"ticks\":\"\"},\"type\":\"choropleth\"}],\"contourcarpet\":[{\"colorbar\":{\"outlinewidth\":0,\"ticks\":\"\"},\"type\":\"contourcarpet\"}],\"contour\":[{\"colorbar\":{\"outlinewidth\":0,\"ticks\":\"\"},\"colorscale\":[[0.0,\"#0d0887\"],[0.1111111111111111,\"#46039f\"],[0.2222222222222222,\"#7201a8\"],[0.3333333333333333,\"#9c179e\"],[0.4444444444444444,\"#bd3786\"],[0.5555555555555556,\"#d8576b\"],[0.6666666666666666,\"#ed7953\"],[0.7777777777777778,\"#fb9f3a\"],[0.8888888888888888,\"#fdca26\"],[1.0,\"#f0f921\"]],\"type\":\"contour\"}],\"heatmapgl\":[{\"colorbar\":{\"outlinewidth\":0,\"ticks\":\"\"},\"colorscale\":[[0.0,\"#0d0887\"],[0.1111111111111111,\"#46039f\"],[0.2222222222222222,\"#7201a8\"],[0.3333333333333333,\"#9c179e\"],[0.4444444444444444,\"#bd3786\"],[0.5555555555555556,\"#d8576b\"],[0.6666666666666666,\"#ed7953\"],[0.7777777777777778,\"#fb9f3a\"],[0.8888888888888888,\"#fdca26\"],[1.0,\"#f0f921\"]],\"type\":\"heatmapgl\"}],\"heatmap\":[{\"colorbar\":{\"outlinewidth\":0,\"ticks\":\"\"},\"colorscale\":[[0.0,\"#0d0887\"],[0.1111111111111111,\"#46039f\"],[0.2222222222222222,\"#7201a8\"],[0.3333333333333333,\"#9c179e\"],[0.4444444444444444,\"#bd3786\"],[0.5555555555555556,\"#d8576b\"],[0.6666666666666666,\"#ed7953\"],[0.7777777777777778,\"#fb9f3a\"],[0.8888888888888888,\"#fdca26\"],[1.0,\"#f0f921\"]],\"type\":\"heatmap\"}],\"histogram2dcontour\":[{\"colorbar\":{\"outlinewidth\":0,\"ticks\":\"\"},\"colorscale\":[[0.0,\"#0d0887\"],[0.1111111111111111,\"#46039f\"],[0.2222222222222222,\"#7201a8\"],[0.3333333333333333,\"#9c179e\"],[0.4444444444444444,\"#bd3786\"],[0.5555555555555556,\"#d8576b\"],[0.6666666666666666,\"#ed7953\"],[0.7777777777777778,\"#fb9f3a\"],[0.8888888888888888,\"#fdca26\"],[1.0,\"#f0f921\"]],\"type\":\"histogram2dcontour\"}],\"histogram2d\":[{\"colorbar\":{\"outlinewidth\":0,\"ticks\":\"\"},\"colorscale\":[[0.0,\"#0d0887\"],[0.1111111111111111,\"#46039f\"],[0.2222222222222222,\"#7201a8\"],[0.3333333333333333,\"#9c179e\"],[0.4444444444444444,\"#bd3786\"],[0.5555555555555556,\"#d8576b\"],[0.6666666666666666,\"#ed7953\"],[0.7777777777777778,\"#fb9f3a\"],[0.8888888888888888,\"#fdca26\"],[1.0,\"#f0f921\"]],\"type\":\"histogram2d\"}],\"histogram\":[{\"marker\":{\"pattern\":{\"fillmode\":\"overlay\",\"size\":10,\"solidity\":0.2}},\"type\":\"histogram\"}],\"mesh3d\":[{\"colorbar\":{\"outlinewidth\":0,\"ticks\":\"\"},\"type\":\"mesh3d\"}],\"parcoords\":[{\"line\":{\"colorbar\":{\"outlinewidth\":0,\"ticks\":\"\"}},\"type\":\"parcoords\"}],\"pie\":[{\"automargin\":true,\"type\":\"pie\"}],\"scatter3d\":[{\"line\":{\"colorbar\":{\"outlinewidth\":0,\"ticks\":\"\"}},\"marker\":{\"colorbar\":{\"outlinewidth\":0,\"ticks\":\"\"}},\"type\":\"scatter3d\"}],\"scattercarpet\":[{\"marker\":{\"colorbar\":{\"outlinewidth\":0,\"ticks\":\"\"}},\"type\":\"scattercarpet\"}],\"scattergeo\":[{\"marker\":{\"colorbar\":{\"outlinewidth\":0,\"ticks\":\"\"}},\"type\":\"scattergeo\"}],\"scattergl\":[{\"marker\":{\"line\":{\"color\":\"#283442\"}},\"type\":\"scattergl\"}],\"scattermapbox\":[{\"marker\":{\"colorbar\":{\"outlinewidth\":0,\"ticks\":\"\"}},\"type\":\"scattermapbox\"}],\"scatterpolargl\":[{\"marker\":{\"colorbar\":{\"outlinewidth\":0,\"ticks\":\"\"}},\"type\":\"scatterpolargl\"}],\"scatterpolar\":[{\"marker\":{\"colorbar\":{\"outlinewidth\":0,\"ticks\":\"\"}},\"type\":\"scatterpolar\"}],\"scatter\":[{\"marker\":{\"line\":{\"color\":\"#283442\"}},\"type\":\"scatter\"}],\"scatterternary\":[{\"marker\":{\"colorbar\":{\"outlinewidth\":0,\"ticks\":\"\"}},\"type\":\"scatterternary\"}],\"surface\":[{\"colorbar\":{\"outlinewidth\":0,\"ticks\":\"\"},\"colorscale\":[[0.0,\"#0d0887\"],[0.1111111111111111,\"#46039f\"],[0.2222222222222222,\"#7201a8\"],[0.3333333333333333,\"#9c179e\"],[0.4444444444444444,\"#bd3786\"],[0.5555555555555556,\"#d8576b\"],[0.6666666666666666,\"#ed7953\"],[0.7777777777777778,\"#fb9f3a\"],[0.8888888888888888,\"#fdca26\"],[1.0,\"#f0f921\"]],\"type\":\"surface\"}],\"table\":[{\"cells\":{\"fill\":{\"color\":\"#506784\"},\"line\":{\"color\":\"rgb(17,17,17)\"}},\"header\":{\"fill\":{\"color\":\"#2a3f5f\"},\"line\":{\"color\":\"rgb(17,17,17)\"}},\"type\":\"table\"}]},\"layout\":{\"annotationdefaults\":{\"arrowcolor\":\"#f2f5fa\",\"arrowhead\":0,\"arrowwidth\":1},\"autotypenumbers\":\"strict\",\"coloraxis\":{\"colorbar\":{\"outlinewidth\":0,\"ticks\":\"\"}},\"colorscale\":{\"diverging\":[[0,\"#8e0152\"],[0.1,\"#c51b7d\"],[0.2,\"#de77ae\"],[0.3,\"#f1b6da\"],[0.4,\"#fde0ef\"],[0.5,\"#f7f7f7\"],[0.6,\"#e6f5d0\"],[0.7,\"#b8e186\"],[0.8,\"#7fbc41\"],[0.9,\"#4d9221\"],[1,\"#276419\"]],\"sequential\":[[0.0,\"#0d0887\"],[0.1111111111111111,\"#46039f\"],[0.2222222222222222,\"#7201a8\"],[0.3333333333333333,\"#9c179e\"],[0.4444444444444444,\"#bd3786\"],[0.5555555555555556,\"#d8576b\"],[0.6666666666666666,\"#ed7953\"],[0.7777777777777778,\"#fb9f3a\"],[0.8888888888888888,\"#fdca26\"],[1.0,\"#f0f921\"]],\"sequentialminus\":[[0.0,\"#0d0887\"],[0.1111111111111111,\"#46039f\"],[0.2222222222222222,\"#7201a8\"],[0.3333333333333333,\"#9c179e\"],[0.4444444444444444,\"#bd3786\"],[0.5555555555555556,\"#d8576b\"],[0.6666666666666666,\"#ed7953\"],[0.7777777777777778,\"#fb9f3a\"],[0.8888888888888888,\"#fdca26\"],[1.0,\"#f0f921\"]]},\"colorway\":[\"#636efa\",\"#EF553B\",\"#00cc96\",\"#ab63fa\",\"#FFA15A\",\"#19d3f3\",\"#FF6692\",\"#B6E880\",\"#FF97FF\",\"#FECB52\"],\"font\":{\"color\":\"#f2f5fa\"},\"geo\":{\"bgcolor\":\"rgb(17,17,17)\",\"lakecolor\":\"rgb(17,17,17)\",\"landcolor\":\"rgb(17,17,17)\",\"showlakes\":true,\"showland\":true,\"subunitcolor\":\"#506784\"},\"hoverlabel\":{\"align\":\"left\"},\"hovermode\":\"closest\",\"mapbox\":{\"style\":\"dark\"},\"paper_bgcolor\":\"rgb(17,17,17)\",\"plot_bgcolor\":\"rgb(17,17,17)\",\"polar\":{\"angularaxis\":{\"gridcolor\":\"#506784\",\"linecolor\":\"#506784\",\"ticks\":\"\"},\"bgcolor\":\"rgb(17,17,17)\",\"radialaxis\":{\"gridcolor\":\"#506784\",\"linecolor\":\"#506784\",\"ticks\":\"\"}},\"scene\":{\"xaxis\":{\"backgroundcolor\":\"rgb(17,17,17)\",\"gridcolor\":\"#506784\",\"gridwidth\":2,\"linecolor\":\"#506784\",\"showbackground\":true,\"ticks\":\"\",\"zerolinecolor\":\"#C8D4E3\"},\"yaxis\":{\"backgroundcolor\":\"rgb(17,17,17)\",\"gridcolor\":\"#506784\",\"gridwidth\":2,\"linecolor\":\"#506784\",\"showbackground\":true,\"ticks\":\"\",\"zerolinecolor\":\"#C8D4E3\"},\"zaxis\":{\"backgroundcolor\":\"rgb(17,17,17)\",\"gridcolor\":\"#506784\",\"gridwidth\":2,\"linecolor\":\"#506784\",\"showbackground\":true,\"ticks\":\"\",\"zerolinecolor\":\"#C8D4E3\"}},\"shapedefaults\":{\"line\":{\"color\":\"#f2f5fa\"}},\"sliderdefaults\":{\"bgcolor\":\"#C8D4E3\",\"bordercolor\":\"rgb(17,17,17)\",\"borderwidth\":1,\"tickwidth\":0},\"ternary\":{\"aaxis\":{\"gridcolor\":\"#506784\",\"linecolor\":\"#506784\",\"ticks\":\"\"},\"baxis\":{\"gridcolor\":\"#506784\",\"linecolor\":\"#506784\",\"ticks\":\"\"},\"bgcolor\":\"rgb(17,17,17)\",\"caxis\":{\"gridcolor\":\"#506784\",\"linecolor\":\"#506784\",\"ticks\":\"\"}},\"title\":{\"x\":0.05},\"updatemenudefaults\":{\"bgcolor\":\"#506784\",\"borderwidth\":0},\"xaxis\":{\"automargin\":true,\"gridcolor\":\"#283442\",\"linecolor\":\"#506784\",\"ticks\":\"\",\"title\":{\"standoff\":15},\"zerolinecolor\":\"#283442\",\"zerolinewidth\":2},\"yaxis\":{\"automargin\":true,\"gridcolor\":\"#283442\",\"linecolor\":\"#506784\",\"ticks\":\"\",\"title\":{\"standoff\":15},\"zerolinecolor\":\"#283442\",\"zerolinewidth\":2}}},\"geo\":{\"domain\":{\"x\":[0.0,1.0],\"y\":[0.0,1.0]},\"center\":{}},\"coloraxis\":{\"colorbar\":{\"title\":{\"text\":\"Confirmed\"}},\"colorscale\":[[0.0,\"#0d0887\"],[0.1111111111111111,\"#46039f\"],[0.2222222222222222,\"#7201a8\"],[0.3333333333333333,\"#9c179e\"],[0.4444444444444444,\"#bd3786\"],[0.5555555555555556,\"#d8576b\"],[0.6666666666666666,\"#ed7953\"],[0.7777777777777778,\"#fb9f3a\"],[0.8888888888888888,\"#fdca26\"],[1.0,\"#f0f921\"]]},\"legend\":{\"tracegroupgap\":0,\"itemsizing\":\"constant\"},\"margin\":{\"t\":60}},                        {\"responsive\": true}                    ).then(function(){\n",
       "                            \n",
       "var gd = document.getElementById('e5ba4b5b-e463-408e-92cb-2763d42d65a6');\n",
       "var x = new MutationObserver(function (mutations, observer) {{\n",
       "        var display = window.getComputedStyle(gd).display;\n",
       "        if (!display || display === 'none') {{\n",
       "            console.log([gd, 'removed!']);\n",
       "            Plotly.purge(gd);\n",
       "            observer.disconnect();\n",
       "        }}\n",
       "}});\n",
       "\n",
       "// Listen for the removal of the full notebook cells\n",
       "var notebookContainer = gd.closest('#notebook-container');\n",
       "if (notebookContainer) {{\n",
       "    x.observe(notebookContainer, {childList: true});\n",
       "}}\n",
       "\n",
       "// Listen for the clearing of the current output cell\n",
       "var outputEl = gd.closest('.output');\n",
       "if (outputEl) {{\n",
       "    x.observe(outputEl, {childList: true});\n",
       "}}\n",
       "\n",
       "                        })                };                });            </script>        </div>"
      ]
     },
     "metadata": {},
     "output_type": "display_data"
    }
   ],
   "source": [
    "import plotly.express as px\n",
    "from data import countries_df\n",
    "\n",
    "print(countries_df.head())\n",
    "\n",
    "fig = px.scatter_geo(\n",
    "    countries_df,\n",
    "    size = \"Confirmed\",\n",
    "    size_max = 40,\n",
    "    hover_name =\"Country_Region\",\n",
    "    color = \"Confirmed\",    \n",
    "    locations = \"Country_Region\",\n",
    "    locationmode = \"country names\",\n",
    "    template = \"plotly_dark\",\n",
    "    hover_data = {        \n",
    "        \"Confirmed\": \":,.2f\",\n",
    "        \"Deaths\": \":,.2f\",\n",
    "        \"Recovered\": \":,.2f\",\n",
    "        \"Country_Region\": False\n",
    "    })\n",
    "fig.show()"
   ]
  }
 ],
 "metadata": {
  "kernelspec": {
   "display_name": "Python 3 (ipykernel)",
   "language": "python",
   "name": "python3"
  },
  "language_info": {
   "codemirror_mode": {
    "name": "ipython",
    "version": 3
   },
   "file_extension": ".py",
   "mimetype": "text/x-python",
   "name": "python",
   "nbconvert_exporter": "python",
   "pygments_lexer": "ipython3",
   "version": "3.8.10"
  }
 },
 "nbformat": 4,
 "nbformat_minor": 5
}
