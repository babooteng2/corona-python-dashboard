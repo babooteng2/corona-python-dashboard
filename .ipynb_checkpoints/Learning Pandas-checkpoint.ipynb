{
 "cells": [
  {
   "cell_type": "code",
   "execution_count": 3,
   "id": "f710e2e6",
   "metadata": {},
   "outputs": [
    {
     "name": "stdout",
     "output_type": "stream",
     "text": [
      "         date  confirmed\n",
      "0     1/22/20        557\n",
      "1     1/23/20        655\n",
      "2     1/24/20        941\n",
      "3     1/25/20       1434\n",
      "4     1/26/20       2118\n",
      "..        ...        ...\n",
      "708  12/30/21  286503512\n",
      "709  12/31/21  288194306\n",
      "710    1/1/22  289279739\n",
      "711    1/2/22  290139776\n",
      "712    1/3/22  292539411\n",
      "\n",
      "[713 rows x 2 columns]\n",
      "         date   deaths\n",
      "0     1/22/20       17\n",
      "1     1/23/20       18\n",
      "2     1/24/20       26\n",
      "3     1/25/20       42\n",
      "4     1/26/20       56\n",
      "..        ...      ...\n",
      "708  12/30/21  5430211\n",
      "709  12/31/21  5436594\n",
      "710    1/1/22  5440522\n",
      "711    1/2/22  5443578\n",
      "712    1/3/22  5449423\n",
      "\n",
      "[713 rows x 2 columns]\n",
      "         date  recovered\n",
      "0     1/22/20         30\n",
      "1     1/23/20         32\n",
      "2     1/24/20         39\n",
      "3     1/25/20         42\n",
      "4     1/26/20         56\n",
      "..        ...        ...\n",
      "708  12/30/21          0\n",
      "709  12/31/21          0\n",
      "710    1/1/22          0\n",
      "711    1/2/22          0\n",
      "712    1/3/22          0\n",
      "\n",
      "[713 rows x 2 columns]\n"
     ]
    }
   ],
   "source": [
    "import pandas as pd\n",
    "\n",
    "conditions = [\"confirmed\", \"deaths\", \"recovered\"]\n",
    "\n",
    "def make_df(condition):\n",
    "    df = pd.read_csv(f\"data/time_{condition}.csv\")\n",
    "    df = df.drop([\"Province/State\",\"Country/Region\", \"Lat\", \"Long\"], axis=1).sum().reset_index(name=f\"{condition}\")\n",
    "    df = df.rename(columns={'index':\"date\"})\n",
    "    return df\n",
    "    \n",
    "for condition in conditions:\n",
    "    condition_df = make_df(condition)\n",
    "    print(condition_df)\n"
   ]
  }
 ],
 "metadata": {
  "kernelspec": {
   "display_name": "Python 3 (ipykernel)",
   "language": "python",
   "name": "python3"
  },
  "language_info": {
   "codemirror_mode": {
    "name": "ipython",
    "version": 3
   },
   "file_extension": ".py",
   "mimetype": "text/x-python",
   "name": "python",
   "nbconvert_exporter": "python",
   "pygments_lexer": "ipython3",
   "version": "3.8.10"
  }
 },
 "nbformat": 4,
 "nbformat_minor": 5
}
